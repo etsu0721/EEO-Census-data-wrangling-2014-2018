{
 "metadata": {
  "language_info": {
   "codemirror_mode": {
    "name": "ipython",
    "version": 3
   },
   "file_extension": ".py",
   "mimetype": "text/x-python",
   "name": "python",
   "nbconvert_exporter": "python",
   "pygments_lexer": "ipython3",
   "version": "3.9.2"
  },
  "orig_nbformat": 2,
  "kernelspec": {
   "name": "python392jvsc74a57bd0d9019ccc628dbb86587306b2b68b3479d266be4699362a26b08fd420b8d79845",
   "display_name": "Python 3.9.2 64-bit"
  },
  "metadata": {
   "interpreter": {
    "hash": "d9019ccc628dbb86587306b2b68b3479d266be4699362a26b08fd420b8d79845"
   }
  }
 },
 "nbformat": 4,
 "nbformat_minor": 2,
 "cells": [
  {
   "cell_type": "code",
   "execution_count": 10,
   "metadata": {},
   "outputs": [],
   "source": [
    "# Import packages\n",
    "import pandas as pd \n",
    "from itertools import product"
   ]
  },
  {
   "cell_type": "code",
   "execution_count": 19,
   "metadata": {},
   "outputs": [],
   "source": [
    "# Read in each column header enumeration\n",
    "workbook_name = 'column-header-enumeration.xlsx'\n",
    "report_types = pd.read_excel(workbook_name,\n",
    "                     sheet_name='Report-Type',\n",
    "                     header=None,\n",
    "                     engine='openpyxl',\n",
    "                     names=['report_type'])\n",
    "race_ethnicity = pd.read_excel(workbook_name,\n",
    "                     sheet_name='Race-Ethnicity',\n",
    "                     engine='openpyxl')\n",
    "genders = pd.read_excel(workbook_name,\n",
    "                     sheet_name='Gender',\n",
    "                     header=None,\n",
    "                     engine='openpyxl',\n",
    "                     names=['gender'])\n",
    "val_formats = pd.read_excel(workbook_name,\n",
    "                     sheet_name='Value-Format',\n",
    "                     header=None,\n",
    "                     engine='openpyxl',\n",
    "                     names=['val_format'])\n"
   ]
  },
  {
   "cell_type": "code",
   "execution_count": 20,
   "metadata": {},
   "outputs": [],
   "source": [
    "# Create DataFrame of all combinations of column header enumerations\n",
    "race_tuples = tuple(race_ethnicity.to_records(index=False))\n",
    "result = pd.DataFrame(list(product(report_types.report_type, race_tuples, genders.gender, val_formats.val_format)),\n",
    "                      columns=['report_type', 'race_ethnicity', 'gender', 'val_format'])\n",
    "result['race_ethnicity_1'] = [ele[0] for ele in result.race_ethnicity]\n",
    "result['race_ethnicity_2'] = [ele[1] for ele in result.race_ethnicity]\n",
    "result.drop(columns=['race_ethnicity'], inplace=True)"
   ]
  },
  {
   "cell_type": "code",
   "execution_count": 21,
   "metadata": {},
   "outputs": [],
   "source": [
    "# Add a column capturing a unique attribute code\n",
    "\n",
    "re_group = result.groupby(['race_ethnicity_1', 'race_ethnicity_2'], dropna=False).ngroup()\n",
    "# Define a function to produce unique attribute codes\n",
    "def concat_unique_attr_code(report_type, gender, val_format, idx):\n",
    "    gender_map = {'Total, both sexes': 'B', 'Male': 'M', 'Female': 'F'}\n",
    "    val_format_map = {'Number': 'N', 'Percent': 'P'}\n",
    "    attr_tuple = (report_type, gender_map[gender], val_format_map[val_format], str(re_group[idx]))\n",
    "    unique_attr_code = '_'.join(attr_tuple)\n",
    "    return unique_attr_code\n",
    "\n",
    "result['unique_attr_code'] = result.apply(lambda row: concat_unique_attr_code(row['report_type'], row['gender'], row['val_format'], row.name), axis=1)"
   ]
  },
  {
   "cell_type": "code",
   "execution_count": 24,
   "metadata": {},
   "outputs": [],
   "source": [
    "# Write resulting table to XLSX file: 2014_2018_EEOALL1R_Column_Headers.xlsx\n",
    "result.to_csv('2014_2018_EEOALL1R_Column_Headers.csv', index=False)"
   ]
  },
  {
   "cell_type": "code",
   "execution_count": 22,
   "metadata": {},
   "outputs": [
    {
     "output_type": "execute_result",
     "data": {
      "text/plain": [
       "   report_type             gender val_format  \\\n",
       "0          EST  Total, both sexes     Number   \n",
       "1          EST  Total, both sexes    Percent   \n",
       "2          EST               Male     Number   \n",
       "3          EST               Male    Percent   \n",
       "4          EST             Female     Number   \n",
       "..         ...                ...        ...   \n",
       "91         MOE  Total, both sexes    Percent   \n",
       "92         MOE               Male     Number   \n",
       "93         MOE               Male    Percent   \n",
       "94         MOE             Female     Number   \n",
       "95         MOE             Female    Percent   \n",
       "\n",
       "                     race_ethnicity_1 race_ethnicity_2 unique_attr_code  \n",
       "0           Total, race and ethnicity              NaN        EST_B_N_7  \n",
       "1           Total, race and ethnicity              NaN        EST_B_P_7  \n",
       "2           Total, race and ethnicity              NaN        EST_M_N_7  \n",
       "3           Total, race and ethnicity              NaN        EST_M_P_7  \n",
       "4           Total, race and ethnicity              NaN        EST_F_N_7  \n",
       "..                                ...              ...              ...  \n",
       "91  Balance of not Hispanic or Latino              NaN        MOE_B_P_0  \n",
       "92  Balance of not Hispanic or Latino              NaN        MOE_M_N_0  \n",
       "93  Balance of not Hispanic or Latino              NaN        MOE_M_P_0  \n",
       "94  Balance of not Hispanic or Latino              NaN        MOE_F_N_0  \n",
       "95  Balance of not Hispanic or Latino              NaN        MOE_F_P_0  \n",
       "\n",
       "[96 rows x 6 columns]"
      ],
      "text/html": "<div>\n<style scoped>\n    .dataframe tbody tr th:only-of-type {\n        vertical-align: middle;\n    }\n\n    .dataframe tbody tr th {\n        vertical-align: top;\n    }\n\n    .dataframe thead th {\n        text-align: right;\n    }\n</style>\n<table border=\"1\" class=\"dataframe\">\n  <thead>\n    <tr style=\"text-align: right;\">\n      <th></th>\n      <th>report_type</th>\n      <th>gender</th>\n      <th>val_format</th>\n      <th>race_ethnicity_1</th>\n      <th>race_ethnicity_2</th>\n      <th>unique_attr_code</th>\n    </tr>\n  </thead>\n  <tbody>\n    <tr>\n      <th>0</th>\n      <td>EST</td>\n      <td>Total, both sexes</td>\n      <td>Number</td>\n      <td>Total, race and ethnicity</td>\n      <td>NaN</td>\n      <td>EST_B_N_7</td>\n    </tr>\n    <tr>\n      <th>1</th>\n      <td>EST</td>\n      <td>Total, both sexes</td>\n      <td>Percent</td>\n      <td>Total, race and ethnicity</td>\n      <td>NaN</td>\n      <td>EST_B_P_7</td>\n    </tr>\n    <tr>\n      <th>2</th>\n      <td>EST</td>\n      <td>Male</td>\n      <td>Number</td>\n      <td>Total, race and ethnicity</td>\n      <td>NaN</td>\n      <td>EST_M_N_7</td>\n    </tr>\n    <tr>\n      <th>3</th>\n      <td>EST</td>\n      <td>Male</td>\n      <td>Percent</td>\n      <td>Total, race and ethnicity</td>\n      <td>NaN</td>\n      <td>EST_M_P_7</td>\n    </tr>\n    <tr>\n      <th>4</th>\n      <td>EST</td>\n      <td>Female</td>\n      <td>Number</td>\n      <td>Total, race and ethnicity</td>\n      <td>NaN</td>\n      <td>EST_F_N_7</td>\n    </tr>\n    <tr>\n      <th>...</th>\n      <td>...</td>\n      <td>...</td>\n      <td>...</td>\n      <td>...</td>\n      <td>...</td>\n      <td>...</td>\n    </tr>\n    <tr>\n      <th>91</th>\n      <td>MOE</td>\n      <td>Total, both sexes</td>\n      <td>Percent</td>\n      <td>Balance of not Hispanic or Latino</td>\n      <td>NaN</td>\n      <td>MOE_B_P_0</td>\n    </tr>\n    <tr>\n      <th>92</th>\n      <td>MOE</td>\n      <td>Male</td>\n      <td>Number</td>\n      <td>Balance of not Hispanic or Latino</td>\n      <td>NaN</td>\n      <td>MOE_M_N_0</td>\n    </tr>\n    <tr>\n      <th>93</th>\n      <td>MOE</td>\n      <td>Male</td>\n      <td>Percent</td>\n      <td>Balance of not Hispanic or Latino</td>\n      <td>NaN</td>\n      <td>MOE_M_P_0</td>\n    </tr>\n    <tr>\n      <th>94</th>\n      <td>MOE</td>\n      <td>Female</td>\n      <td>Number</td>\n      <td>Balance of not Hispanic or Latino</td>\n      <td>NaN</td>\n      <td>MOE_F_N_0</td>\n    </tr>\n    <tr>\n      <th>95</th>\n      <td>MOE</td>\n      <td>Female</td>\n      <td>Percent</td>\n      <td>Balance of not Hispanic or Latino</td>\n      <td>NaN</td>\n      <td>MOE_F_P_0</td>\n    </tr>\n  </tbody>\n</table>\n<p>96 rows × 6 columns</p>\n</div>"
     },
     "metadata": {},
     "execution_count": 22
    }
   ],
   "source": [
    "result"
   ]
  },
  {
   "cell_type": "code",
   "execution_count": null,
   "metadata": {},
   "outputs": [],
   "source": []
  }
 ]
}